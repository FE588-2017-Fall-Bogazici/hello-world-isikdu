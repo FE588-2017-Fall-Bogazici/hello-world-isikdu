{
 "cells": [
  {
   "cell_type": "code",
   "execution_count": 1,
   "metadata": {},
   "outputs": [
    {
     "name": "stdout",
     "output_type": "stream",
     "text": [
      "Işık Durukan\n"
     ]
    }
   ],
   "source": [
    "print(\"Işık Durukan\")"
   ]
  },
  {
   "cell_type": "markdown",
   "metadata": {},
   "source": [
    "x kare artı 3 x eksi 4 fonksiyonunu 0dan 0.1 0.1 artırarak yleri print ettir"
   ]
  },
  {
   "cell_type": "code",
   "execution_count": 26,
   "metadata": {},
   "outputs": [
    {
     "name": "stdout",
     "output_type": "stream",
     "text": [
      "x= 0 iken y=-4\n",
      "x= 0.1 iken y=-3.69\n",
      "x= 0.2 iken y=-3.36\n",
      "x= 0.30000000000000004 iken y=-3.01\n",
      "x= 0.4 iken y=-2.6399999999999997\n",
      "x= 0.5 iken y=-2.25\n",
      "x= 0.6 iken y=-1.8400000000000003\n",
      "x= 0.7 iken y=-1.4100000000000006\n",
      "x= 0.7999999999999999 iken y=-0.96\n",
      "x= 0.8999999999999999 iken y=-0.4900000000000002\n"
     ]
    }
   ],
   "source": [
    "x=0\n",
    "for i in range(10):\n",
    "    print(\"x= \" +str(x)+ \" iken y=\"+ str(x**2+3*x-4))\n",
    "    x+=0.1\n"
   ]
  },
  {
   "cell_type": "markdown",
   "metadata": {},
   "source": [
    "Bisection metodunu kullanarak kök 2'yi bulmaya çalışıyoruz."
   ]
  },
  {
   "cell_type": "markdown",
   "metadata": {},
   "source": [
    "o zaman amacımız x kare-2=0 fonksiyonunu sıfırlayan x'i bulmak"
   ]
  },
  {
   "cell_type": "markdown",
   "metadata": {},
   "source": [
    "left ve risht olarak 2 sayı var. bu iki sayının fonksiyon değerlerini hesaplıyoruz. bu iki sayının fonksiyon işaretleri birbirinden farklı\n",
    "\n",
    "1. initialize left and right\n",
    "2. fonksiyona karar ver. f(x)=x kare-2\n",
    "3. ne zaman duracağına ilişkin bir koşul yazmalıyız. left ve rigt arasındaki aralığın 0.000001'den küçük olması.\n",
    "4. ilk olarak midpointi bul.\n",
    "5. midpoint noktasını fonksiyona koy. f(midpoint)\n",
    "6. f(midpoint)'in sign'ı f(left)'in sign'ı ile aynı ise, yeni left midpoint olacak\n",
    "7. else yeni rigt midpoint olacak\n"
   ]
  },
  {
   "cell_type": "code",
   "execution_count": 5,
   "metadata": {},
   "outputs": [
    {
     "name": "stdout",
     "output_type": "stream",
     "text": [
      "1.4142141342163086\n"
     ]
    }
   ],
   "source": [
    "left=0\n",
    "right=2 #ikinin kökü 2 ve 0 arasında olduğu için böyle bir şey yaptık\n",
    "\n",
    "for i in range(100):\n",
    "    \n",
    "    if (right-left)<0.000001:\n",
    "        break\n",
    "        \n",
    "    else:\n",
    "        mid=(right+left)/2\n",
    "        f_mid=mid**2-2\n",
    "        f_left=left**2-2\n",
    "        \n",
    "        \n",
    "        if f_mid*f_left>0: #aynı işaretlilerin çarpımı 0'dan büyük olur kuralını kullandık\n",
    "            left=mid\n",
    "        else:\n",
    "            right=mid\n",
    "print(mid)"
   ]
  }
 ],
 "metadata": {
  "kernelspec": {
   "display_name": "Python 3",
   "language": "python",
   "name": "python3"
  },
  "language_info": {
   "codemirror_mode": {
    "name": "ipython",
    "version": 3
   },
   "file_extension": ".py",
   "mimetype": "text/x-python",
   "name": "python",
   "nbconvert_exporter": "python",
   "pygments_lexer": "ipython3",
   "version": "3.6.2"
  }
 },
 "nbformat": 4,
 "nbformat_minor": 2
}
